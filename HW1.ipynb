{
  "nbformat": 4,
  "nbformat_minor": 0,
  "metadata": {
    "colab": {
      "provenance": [],
      "authorship_tag": "ABX9TyMStXiZZaHJYCiUyfBbtYt8",
      "include_colab_link": true
    },
    "kernelspec": {
      "name": "python3",
      "display_name": "Python 3"
    },
    "language_info": {
      "name": "python"
    }
  },
  "cells": [
    {
      "cell_type": "markdown",
      "metadata": {
        "id": "view-in-github",
        "colab_type": "text"
      },
      "source": [
        "<a href=\"https://colab.research.google.com/github/janjira24122544/Python_dataviz2023/blob/main/HW1.ipynb\" target=\"_parent\"><img src=\"https://colab.research.google.com/assets/colab-badge.svg\" alt=\"Open In Colab\"/></a>"
      ]
    },
    {
      "cell_type": "markdown",
      "source": [
        "##โจทย์ ช่วงเวลาต่อไปนี้ ห่างกันกี่ ชั่วโมง กี่นาที กี่วินาที (print ออกมาให้สวยงาม)\n",
        "\n",
        "12:30:15 - 13:41:07\n",
        "\n",
        "09:11:50 - 21:30:15\n",
        "\n",
        "19:25:30 - 03:10:15\n"
      ],
      "metadata": {
        "id": "WcE0nHe6w5Gq"
      }
    },
    {
      "cell_type": "markdown",
      "source": [
        "# ข้อ 1"
      ],
      "metadata": {
        "id": "4Qd4Vo-DyjDq"
      }
    },
    {
      "cell_type": "code",
      "execution_count": null,
      "metadata": {
        "colab": {
          "base_uri": "https://localhost:8080/"
        },
        "id": "PTtVIr9BtQKF",
        "outputId": "4ecd107b-78a7-43fb-9bbc-e6016cf690c6"
      },
      "outputs": [
        {
          "output_type": "stream",
          "name": "stdout",
          "text": [
            "45015\n"
          ]
        }
      ],
      "source": [
        "a1 = '12:30:15 '\n",
        "a1_sp = a1.split(':') #spitคือคำสั่งแยกข้อมูล\n",
        "ans1 = int(a1_sp[0])*3600 + int(a1_sp[1])*60+int(a1_sp[2]) #คำสั่ง int คือแปลงค่าจำนวนเต็ม\n",
        "print(ans1)\n"
      ]
    },
    {
      "cell_type": "code",
      "source": [
        "a2 = '13:41:07'\n",
        "a2_sp = a2.split(':')\n",
        "print(a2_sp)\n",
        "ans2= int(a2_sp[0])*3600 + int (a2_sp[1])*60 +int(a2_sp[2])\n",
        "print(ans2)"
      ],
      "metadata": {
        "colab": {
          "base_uri": "https://localhost:8080/"
        },
        "id": "UO1PxDReuT46",
        "outputId": "b938287a-1370-400a-d79f-707b1fd1d057"
      },
      "execution_count": null,
      "outputs": [
        {
          "output_type": "stream",
          "name": "stdout",
          "text": [
            "49267\n"
          ]
        }
      ]
    },
    {
      "cell_type": "code",
      "source": [
        "(ans2)-(ans1)"
      ],
      "metadata": {
        "colab": {
          "base_uri": "https://localhost:8080/"
        },
        "id": "ziamU7ffub-e",
        "outputId": "775bb11d-e7ec-41b3-e96d-55b9b157d7c1"
      },
      "execution_count": null,
      "outputs": [
        {
          "output_type": "execute_result",
          "data": {
            "text/plain": [
              "4252"
            ]
          },
          "metadata": {},
          "execution_count": 13
        }
      ]
    },
    {
      "cell_type": "code",
      "source": [
        "seconds = 4252 #วินาทีทั้งหมด\n",
        "hours = seconds // 3600 #วินาทีทั้งหมดหาร 3600 จะได้ชั่วโมง\n",
        "minutes = (seconds // 60) % 60 # หาจำนวนนาทีโดยหารวินาทีทั้งหมดด้วย 60 แล้วเอาเศษที่ได้จากการหารด้วย 60 จะได้จำนวนนาที\n",
        "seconds = seconds % 60 # หาจำนวนวินาทีที่เหลือจากการหาร 60\n",
        "print(f\"ช่วงเวลา 12:30:15 - 13:41:07 ห่างกัน {hours} ชั่วโมง {minutes} นาที {seconds} วินาที\")\n"
      ],
      "metadata": {
        "colab": {
          "base_uri": "https://localhost:8080/"
        },
        "id": "bf4Miao3vnRb",
        "outputId": "18ae5829-a596-4c66-9155-15ecbfc98652"
      },
      "execution_count": null,
      "outputs": [
        {
          "output_type": "stream",
          "name": "stdout",
          "text": [
            "ช่วงเวลา 12:30:15 - 13:41:07 ห่างกัน 1 ชั่วโมง 10 นาที 52 วินาที\n"
          ]
        }
      ]
    },
    {
      "cell_type": "markdown",
      "source": [
        "# ข้อ 2"
      ],
      "metadata": {
        "id": "rMGqLRzNyzr5"
      }
    },
    {
      "cell_type": "code",
      "source": [
        "b1 = '09:11:50'\n",
        "b1_sp = b1.split(':') #spitคือคำสั่งแยกข้อมูล\n",
        "bns1 = int(b1_sp[0])*3600 + int(b1_sp[1])*60+int(b1_sp[2]) #คำสั่ง int คือแปลงค่าจำนวนเต็ม\n",
        "print(bns1)"
      ],
      "metadata": {
        "colab": {
          "base_uri": "https://localhost:8080/"
        },
        "id": "sYMfcGHLy3Tj",
        "outputId": "0b2a90d6-c2ad-42e2-e856-a6bf515dcd4b"
      },
      "execution_count": null,
      "outputs": [
        {
          "output_type": "stream",
          "name": "stdout",
          "text": [
            "33110\n"
          ]
        }
      ]
    },
    {
      "cell_type": "code",
      "source": [
        "b2 = '21:30:15'\n",
        "b2_sp = b2.split(':')\n",
        "print(b2_sp)\n",
        "bns2= int(b2_sp[0])*3600 + int (b2_sp[1])*60 +int(b2_sp[2])\n",
        "print(bns2)"
      ],
      "metadata": {
        "colab": {
          "base_uri": "https://localhost:8080/"
        },
        "id": "Rp4oUb5O08xN",
        "outputId": "06a54179-fd51-47a3-b356-b6925e9648fd"
      },
      "execution_count": null,
      "outputs": [
        {
          "output_type": "stream",
          "name": "stdout",
          "text": [
            "['21', '30', '15']\n",
            "77415\n"
          ]
        }
      ]
    },
    {
      "cell_type": "code",
      "source": [
        "(bns2)-(bns1)"
      ],
      "metadata": {
        "colab": {
          "base_uri": "https://localhost:8080/"
        },
        "id": "j3WjRr-535Sq",
        "outputId": "134b312c-7dee-4450-84fe-ab1f17787994"
      },
      "execution_count": null,
      "outputs": [
        {
          "output_type": "execute_result",
          "data": {
            "text/plain": [
              "44305"
            ]
          },
          "metadata": {},
          "execution_count": 32
        }
      ]
    },
    {
      "cell_type": "code",
      "source": [
        "seconds = 44305 #วินาทีทั้งหมด\n",
        "hours = seconds // 3600 #วินาทีทั้งหมดหาร 3600 จะได้ชั่วโมง\n",
        "minutes = (seconds // 60) % 60 # หาจำนวนนาทีโดยหารวินาทีทั้งหมดด้วย 60 แล้วเอาเศษที่ได้จากการหารด้วย 60 จะได้จำนวนนาที\n",
        "seconds = seconds % 60 # หาจำนวนวินาทีที่เหลือจากการหาร 60\n",
        "print(f\"ช่วงเวลา 09:11:50 - 21:30:15 ห่างกัน {hours} ชั่วโมง {minutes} นาที {seconds} วินาที\")"
      ],
      "metadata": {
        "colab": {
          "base_uri": "https://localhost:8080/"
        },
        "id": "c9uI_Tz83-aV",
        "outputId": "7843e347-bd92-4bea-bb73-aefafee2d527"
      },
      "execution_count": null,
      "outputs": [
        {
          "output_type": "stream",
          "name": "stdout",
          "text": [
            "ช่วงเวลา 09:11:50 - 21:30:15 ห่างกัน 12 ชั่วโมง 18 นาที 25 วินาที\n"
          ]
        }
      ]
    },
    {
      "cell_type": "markdown",
      "source": [
        "# ข้อ 3"
      ],
      "metadata": {
        "id": "gDdm6iq16IH5"
      }
    },
    {
      "cell_type": "code",
      "source": [
        "c1 = '19:25:30'\n",
        "c1_sp = c1.split(':') #spitคือคำสั่งแยกข้อมูล\n",
        "cns1 = int(c1_sp[0])*3600 + int(c1_sp[1])*60+int(c1_sp[2]) #คำสั่ง int คือแปลงค่าจำนวนเต็ม\n",
        "print(cns1)"
      ],
      "metadata": {
        "colab": {
          "base_uri": "https://localhost:8080/"
        },
        "id": "QM6N3IMq-nnp",
        "outputId": "74aa5b43-4cd1-4af9-efee-574ddd246df5"
      },
      "execution_count": 4,
      "outputs": [
        {
          "output_type": "stream",
          "name": "stdout",
          "text": [
            "69930\n"
          ]
        }
      ]
    },
    {
      "cell_type": "code",
      "source": [
        "c2 = '03:10:15'\n",
        "c2_sp = c2.split(':')\n",
        "cns2= int(c2_sp[0])*3600 + int (c2_sp[1])*60 +int(c2_sp[2])\n",
        "print(cns2)"
      ],
      "metadata": {
        "colab": {
          "base_uri": "https://localhost:8080/"
        },
        "id": "SR6ZoyHm-5Ia",
        "outputId": "bdface20-cd2a-4622-9a1f-f5ab5d097413"
      },
      "execution_count": 1,
      "outputs": [
        {
          "output_type": "stream",
          "name": "stdout",
          "text": [
            "11415\n"
          ]
        }
      ]
    },
    {
      "cell_type": "code",
      "source": [
        "c3 = '24:00:00'\n",
        "c3_sp = c3.split(':') #spitคือคำสั่งแยกข้อมูล\n",
        "cns3 = int(c3_sp[0])*3600 + int(c3_sp[1])*60+int(c3_sp[2]) #คำสั่ง int คือแปลงค่าจำนวนเต็ม\n",
        "print(cns3)"
      ],
      "metadata": {
        "colab": {
          "base_uri": "https://localhost:8080/"
        },
        "id": "9t7ZkeUN_Byf",
        "outputId": "e6080eb5-a6c6-46f7-8357-0b0af5046873"
      },
      "execution_count": 5,
      "outputs": [
        {
          "output_type": "stream",
          "name": "stdout",
          "text": [
            "86400\n"
          ]
        }
      ]
    },
    {
      "cell_type": "code",
      "source": [
        "(cns2-cns1)+cns3"
      ],
      "metadata": {
        "colab": {
          "base_uri": "https://localhost:8080/"
        },
        "id": "D9jF8OeO_ZR5",
        "outputId": "47a287a2-83eb-484b-8b5a-40b96eaac54a"
      },
      "execution_count": 7,
      "outputs": [
        {
          "output_type": "execute_result",
          "data": {
            "text/plain": [
              "27885"
            ]
          },
          "metadata": {},
          "execution_count": 7
        }
      ]
    },
    {
      "cell_type": "code",
      "source": [
        "seconds = 27885 #วินาทีทั้งหมด\n",
        "hours = seconds // 3600 #วินาทีทั้งหมดหาร 3600 จะได้ชั่วโมง\n",
        "minutes = (seconds // 60) % 60 # หาจำนวนนาทีโดยหารวินาทีทั้งหมดด้วย 60 แล้วเอาเศษที่ได้จากการหารด้วย 60 จะได้จำนวนนาที\n",
        "seconds = seconds % 60 # หาจำนวนวินาทีที่เหลือจากการหาร 60\n",
        "print(f\"ช่วงเวลา 09:11:50 - 21:30:15 ห่างกัน {hours} ชั่วโมง {minutes} นาที {seconds} วินาที\")"
      ],
      "metadata": {
        "colab": {
          "base_uri": "https://localhost:8080/"
        },
        "id": "TKyGGsPA_i6w",
        "outputId": "3d377f3c-5b6d-4e5d-fafc-fab778b79290"
      },
      "execution_count": null,
      "outputs": [
        {
          "output_type": "stream",
          "name": "stdout",
          "text": [
            "ช่วงเวลา 09:11:50 - 21:30:15 ห่างกัน 7 ชั่วโมง 44 นาที 45 วินาที\n"
          ]
        }
      ]
    }
  ]
}