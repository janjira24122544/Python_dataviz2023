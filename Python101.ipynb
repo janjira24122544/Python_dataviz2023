{
  "nbformat": 4,
  "nbformat_minor": 0,
  "metadata": {
    "colab": {
      "provenance": [],
      "authorship_tag": "ABX9TyO9G9EXqfarX8yTRIZR4zoe",
      "include_colab_link": true
    },
    "kernelspec": {
      "name": "python3",
      "display_name": "Python 3"
    },
    "language_info": {
      "name": "python"
    }
  },
  "cells": [
    {
      "cell_type": "markdown",
      "metadata": {
        "id": "view-in-github",
        "colab_type": "text"
      },
      "source": [
        "<a href=\"https://colab.research.google.com/github/janjira24122544/Python_dataviz2023/blob/main/Python101.ipynb\" target=\"_parent\"><img src=\"https://colab.research.google.com/assets/colab-badge.svg\" alt=\"Open In Colab\"/></a>"
      ]
    },
    {
      "cell_type": "markdown",
      "source": [
        "# print ข้อความ\n",
        "\n"
      ],
      "metadata": {
        "id": "G4eg4_lL8HdB"
      }
    },
    {
      "cell_type": "code",
      "execution_count": 2,
      "metadata": {
        "colab": {
          "base_uri": "https://localhost:8080/"
        },
        "id": "aQM2iPGls0hU",
        "outputId": "3f71236e-5f38-4661-da23-dce0445fa0d3"
      },
      "outputs": [
        {
          "output_type": "stream",
          "name": "stdout",
          "text": [
            "Test\n"
          ]
        }
      ],
      "source": [
        "print ('Test') #คำสั่งแสดงค่าข้อมูล"
      ]
    },
    {
      "cell_type": "code",
      "source": [
        "'สถิติ' # แสดงข้อความ quote"
      ],
      "metadata": {
        "colab": {
          "base_uri": "https://localhost:8080/",
          "height": 35
        },
        "id": "lfcZd6r2tuE3",
        "outputId": "bf8ba9c1-ce8a-406c-def9-8ba2dcf6f0a7"
      },
      "execution_count": 4,
      "outputs": [
        {
          "output_type": "execute_result",
          "data": {
            "text/plain": [
              "'สถิติ'"
            ],
            "application/vnd.google.colaboratory.intrinsic+json": {
              "type": "string"
            }
          },
          "metadata": {},
          "execution_count": 4
        }
      ]
    },
    {
      "cell_type": "code",
      "source": [
        "print (\"Test\") # คำสั่งแวดงข้อความที่เขียน double quote"
      ],
      "metadata": {
        "colab": {
          "base_uri": "https://localhost:8080/"
        },
        "id": "VZNqzlX-uAkW",
        "outputId": "d9c4cf8f-addf-4aea-b197-3153463023d8"
      },
      "execution_count": 6,
      "outputs": [
        {
          "output_type": "stream",
          "name": "stdout",
          "text": [
            "Test\n"
          ]
        }
      ]
    },
    {
      "cell_type": "code",
      "source": [
        "1+3 #ผลที่รันโชว์หน้าจอ"
      ],
      "metadata": {
        "colab": {
          "base_uri": "https://localhost:8080/"
        },
        "id": "OwXjDw2oubcn",
        "outputId": "d9b617f9-f090-4e98-a113-627dc68012fd"
      },
      "execution_count": 7,
      "outputs": [
        {
          "output_type": "execute_result",
          "data": {
            "text/plain": [
              "4"
            ]
          },
          "metadata": {},
          "execution_count": 7
        }
      ]
    },
    {
      "cell_type": "code",
      "source": [
        "a = 1+3 #คำตอบที่มีตัวแปรมารับ"
      ],
      "metadata": {
        "id": "KjotBbMeu80S"
      },
      "execution_count": 8,
      "outputs": []
    },
    {
      "cell_type": "code",
      "source": [
        "print (a) #คือตัวแปรรับ"
      ],
      "metadata": {
        "colab": {
          "base_uri": "https://localhost:8080/"
        },
        "id": "bFk1StJgvjaO",
        "outputId": "9f9c9b6a-1595-4448-ca5f-fdf150b8b966"
      },
      "execution_count": 9,
      "outputs": [
        {
          "output_type": "stream",
          "name": "stdout",
          "text": [
            "4\n"
          ]
        }
      ]
    },
    {
      "cell_type": "code",
      "source": [
        "print('stat','สถิติ') #แสดงข้อความ stat สถิติ"
      ],
      "metadata": {
        "colab": {
          "base_uri": "https://localhost:8080/"
        },
        "id": "AU1eFdoOwIxX",
        "outputId": "7864f6d8-dffa-4a5f-efa0-38b6ecf816da"
      },
      "execution_count": 12,
      "outputs": [
        {
          "output_type": "stream",
          "name": "stdout",
          "text": [
            "stat สถิติ\n"
          ]
        }
      ]
    },
    {
      "cell_type": "code",
      "source": [
        "1 - 3 # ถ้าเป็นตัวเลขสามารถบวก ลบ ได้เป็นปกติ"
      ],
      "metadata": {
        "colab": {
          "base_uri": "https://localhost:8080/"
        },
        "id": "jpXt8fVcB5I2",
        "outputId": "3626c317-7bba-4332-c304-230266337538"
      },
      "execution_count": 29,
      "outputs": [
        {
          "output_type": "execute_result",
          "data": {
            "text/plain": [
              "-2"
            ]
          },
          "metadata": {},
          "execution_count": 29
        }
      ]
    },
    {
      "cell_type": "markdown",
      "source": [
        "# Print >- sep\n"
      ],
      "metadata": {
        "id": "1QzkN1HJ7I3V"
      }
    },
    {
      "cell_type": "code",
      "source": [
        "print('stat','สถิติ', sep='') # print ข้อความไม่เว้นระยะห่าง"
      ],
      "metadata": {
        "colab": {
          "base_uri": "https://localhost:8080/"
        },
        "id": "32-tdYMGxmFa",
        "outputId": "0bab949d-ce80-4807-faf3-619b74cd777e"
      },
      "execution_count": 11,
      "outputs": [
        {
          "output_type": "stream",
          "name": "stdout",
          "text": [
            "statสถิติ\n"
          ]
        }
      ]
    },
    {
      "cell_type": "code",
      "source": [
        "print('stat')\n",
        "print('SIDS') #แสดงข้อความแบบคนละบรรทัด"
      ],
      "metadata": {
        "colab": {
          "base_uri": "https://localhost:8080/"
        },
        "id": "ZCJEoZn5xroO",
        "outputId": "20d50eb7-5782-45c8-d949-f229e178976f"
      },
      "execution_count": 14,
      "outputs": [
        {
          "output_type": "stream",
          "name": "stdout",
          "text": [
            "stat\n",
            "SIDS\n"
          ]
        }
      ]
    },
    {
      "cell_type": "markdown",
      "source": [
        "# Print >- end"
      ],
      "metadata": {
        "id": "31_NneNm7RkW"
      }
    },
    {
      "cell_type": "code",
      "source": [
        "print('stat',end=', ')\n",
        "print('SIDS')  #เป็นการปรับแต่งพฤติกรรมของ function"
      ],
      "metadata": {
        "colab": {
          "base_uri": "https://localhost:8080/"
        },
        "id": "r83W51cRx_US",
        "outputId": "197d24b3-3162-43e4-aaaa-69b81e810608"
      },
      "execution_count": 16,
      "outputs": [
        {
          "output_type": "stream",
          "name": "stdout",
          "text": [
            "stat, SIDS\n"
          ]
        }
      ]
    },
    {
      "cell_type": "code",
      "source": [
        "print('stat',end='')\n",
        "print('SIDS') #แสดงข้อความแบบข้อความติดกัน"
      ],
      "metadata": {
        "colab": {
          "base_uri": "https://localhost:8080/"
        },
        "id": "7hDICiCWyUlW",
        "outputId": "d264602d-47b6-4fdf-f33f-b830439880a8"
      },
      "execution_count": 18,
      "outputs": [
        {
          "output_type": "stream",
          "name": "stdout",
          "text": [
            "statSIDS\n"
          ]
        }
      ]
    },
    {
      "cell_type": "markdown",
      "source": [
        "# ชนิดของตัวแแปร"
      ],
      "metadata": {
        "id": "cYp0xYSm69o0"
      }
    },
    {
      "cell_type": "code",
      "source": [
        "a =  12\n",
        "b = 1.3"
      ],
      "metadata": {
        "id": "gU1SO7ib6L89"
      },
      "execution_count": 20,
      "outputs": []
    },
    {
      "cell_type": "code",
      "source": [
        "print(type(a),type(b))"
      ],
      "metadata": {
        "colab": {
          "base_uri": "https://localhost:8080/"
        },
        "id": "nNNyImAs6Ow_",
        "outputId": "4391be60-71b6-445b-b0ba-164ac7c17ad7"
      },
      "execution_count": 21,
      "outputs": [
        {
          "output_type": "stream",
          "name": "stdout",
          "text": [
            "<class 'int'> <class 'float'>\n"
          ]
        }
      ]
    },
    {
      "cell_type": "code",
      "source": [
        "c = a/b\n",
        "c"
      ],
      "metadata": {
        "colab": {
          "base_uri": "https://localhost:8080/"
        },
        "id": "qYUKjnyY7bpi",
        "outputId": "e5557027-62f4-4ef5-cf81-2de14e19bfca"
      },
      "execution_count": 24,
      "outputs": [
        {
          "output_type": "execute_result",
          "data": {
            "text/plain": [
              "9.23076923076923"
            ]
          },
          "metadata": {},
          "execution_count": 24
        }
      ]
    },
    {
      "cell_type": "markdown",
      "source": [
        "modulo (%) การหารเอาเศษ"
      ],
      "metadata": {
        "id": "-ULnv9Me6tvc"
      }
    },
    {
      "cell_type": "code",
      "source": [
        "7%4"
      ],
      "metadata": {
        "colab": {
          "base_uri": "https://localhost:8080/"
        },
        "id": "ZlZIcg0g6m6t",
        "outputId": "5d2a3870-6b14-403d-b544-52d8388fd03c"
      },
      "execution_count": 22,
      "outputs": [
        {
          "output_type": "execute_result",
          "data": {
            "text/plain": [
              "3"
            ]
          },
          "metadata": {},
          "execution_count": 22
        }
      ]
    },
    {
      "cell_type": "markdown",
      "source": [
        "ยกกำลัง (**)\n",
        "\n"
      ],
      "metadata": {
        "id": "QufZbDe06xn3"
      }
    },
    {
      "cell_type": "code",
      "source": [
        "2**10"
      ],
      "metadata": {
        "colab": {
          "base_uri": "https://localhost:8080/"
        },
        "id": "wn74vh4D6png",
        "outputId": "a699a3f8-9fbd-4780-ae59-18f3222b1988"
      },
      "execution_count": 23,
      "outputs": [
        {
          "output_type": "execute_result",
          "data": {
            "text/plain": [
              "1024"
            ]
          },
          "metadata": {},
          "execution_count": 23
        }
      ]
    },
    {
      "cell_type": "markdown",
      "source": [
        "# String (''&\")\n"
      ],
      "metadata": {
        "id": "9nMpBzhB8VQQ"
      }
    },
    {
      "cell_type": "code",
      "source": [
        "'1' + '3' #เอาstringมาต่อกัน"
      ],
      "metadata": {
        "colab": {
          "base_uri": "https://localhost:8080/",
          "height": 35
        },
        "id": "BkiY4a_C8ZQ4",
        "outputId": "160a58d1-a796-4afb-ad0c-0868b4bf4008"
      },
      "execution_count": 25,
      "outputs": [
        {
          "output_type": "execute_result",
          "data": {
            "text/plain": [
              "'13'"
            ],
            "application/vnd.google.colaboratory.intrinsic+json": {
              "type": "string"
            }
          },
          "metadata": {},
          "execution_count": 25
        }
      ]
    },
    {
      "cell_type": "code",
      "source": [
        "5*'6' #มี 6 จำนวน 5 ตัว"
      ],
      "metadata": {
        "colab": {
          "base_uri": "https://localhost:8080/",
          "height": 35
        },
        "id": "9dl8dpMB8bEm",
        "outputId": "89492ec5-55d0-437d-ac6b-8149b4ef9074"
      },
      "execution_count": 26,
      "outputs": [
        {
          "output_type": "execute_result",
          "data": {
            "text/plain": [
              "'66666'"
            ],
            "application/vnd.google.colaboratory.intrinsic+json": {
              "type": "string"
            }
          },
          "metadata": {},
          "execution_count": 26
        }
      ]
    },
    {
      "cell_type": "markdown",
      "source": [
        "# ตัวแปร Varible"
      ],
      "metadata": {
        "id": "6FvL3oKU7j-U"
      }
    },
    {
      "cell_type": "code",
      "source": [
        "vartest1 = 1+3 # การตั้งตัวเเปรไว้"
      ],
      "metadata": {
        "id": "taX_i3cb83A-"
      },
      "execution_count": 27,
      "outputs": []
    },
    {
      "cell_type": "code",
      "source": [
        "vartest1 # เเสดงค่าของตัวเเปร"
      ],
      "metadata": {
        "colab": {
          "base_uri": "https://localhost:8080/"
        },
        "id": "dxmiB95Y85jh",
        "outputId": "7f634020-6098-4f7d-a069-eba08b37c8dc"
      },
      "execution_count": 28,
      "outputs": [
        {
          "output_type": "execute_result",
          "data": {
            "text/plain": [
              "4"
            ]
          },
          "metadata": {},
          "execution_count": 28
        }
      ]
    },
    {
      "cell_type": "code",
      "source": [
        "vartest2 = '1' + '3' # ตั้งตัวเเปรไว้"
      ],
      "metadata": {
        "id": "oQsmzTN1Chw-"
      },
      "execution_count": 33,
      "outputs": []
    },
    {
      "cell_type": "code",
      "source": [
        "vartest2 # เเสดงค่าของตัวเเปร"
      ],
      "metadata": {
        "colab": {
          "base_uri": "https://localhost:8080/",
          "height": 35
        },
        "id": "UtQt1i_-CjfM",
        "outputId": "d5d2e2d7-88e7-4389-dfcf-a4cc186d1d41"
      },
      "execution_count": 34,
      "outputs": [
        {
          "output_type": "execute_result",
          "data": {
            "text/plain": [
              "'13'"
            ],
            "application/vnd.google.colaboratory.intrinsic+json": {
              "type": "string"
            }
          },
          "metadata": {},
          "execution_count": 34
        }
      ]
    },
    {
      "cell_type": "code",
      "source": [
        "print(vartest2)  # เเสดง output ออกมา"
      ],
      "metadata": {
        "colab": {
          "base_uri": "https://localhost:8080/"
        },
        "id": "rvFCiBIRCkKH",
        "outputId": "b1619b47-46e3-4250-878e-01e8bcac7708"
      },
      "execution_count": 35,
      "outputs": [
        {
          "output_type": "stream",
          "name": "stdout",
          "text": [
            "13\n"
          ]
        }
      ]
    },
    {
      "cell_type": "markdown",
      "source": [
        "# Quiz1\n",
        " print มาก ที่มี ก.ไก่ 100 ตัว"
      ],
      "metadata": {
        "id": "SyNgEv4u5-2P"
      }
    },
    {
      "cell_type": "code",
      "source": [
        "'มา'+'ก'*100 #มาก กอไก่ล้านตัวว"
      ],
      "metadata": {
        "colab": {
          "base_uri": "https://localhost:8080/",
          "height": 35
        },
        "id": "OIQVgvU6yowy",
        "outputId": "a2804412-e8b2-4adb-9cce-e1ad65a63f8c"
      },
      "execution_count": 19,
      "outputs": [
        {
          "output_type": "execute_result",
          "data": {
            "text/plain": [
              "'มากกกกกกกกกกกกกกกกกกกกกกกกกกกกกกกกกกกกกกกกกกกกกกกกกกกกกกกกกกกกกกกกกกกกกกกกกกกกกกกกกกกกกกกกกกกกกกกกกกกก'"
            ],
            "application/vnd.google.colaboratory.intrinsic+json": {
              "type": "string"
            }
          },
          "metadata": {},
          "execution_count": 19
        }
      ]
    },
    {
      "cell_type": "markdown",
      "source": [
        "# ข้อกำหนดในการตั้งชื่อตัวแปร\n",
        "1. ตั้งให้สื่อความหมาย\n",
        "\n",
        "2. ต้องเป็นภาษาอังกฤษ\n",
        "\n",
        "3. ใช้ตัวเลขผสมกับตัวหนังสือได้ เเต่ห้ามขึ้นต้นด้วยตัวเลข\n",
        "\n",
        "4. ห้ามมีเว้นวรรคในชื่อตัวเเปร\n",
        "\n",
        "5. ตัวใหญ่กับตัวเล็ก ค่าไม่เท่ากัน"
      ],
      "metadata": {
        "id": "A-uSQFbbAefA"
      }
    },
    {
      "cell_type": "code",
      "source": [
        "1a = 7 # ไม่สามารถทำได้เพราะขึ้นต้นด้วยตัวเลข"
      ],
      "metadata": {
        "id": "0iYI8cWwBJRy"
      },
      "execution_count": null,
      "outputs": []
    },
    {
      "cell_type": "code",
      "source": [
        "variable a = 1 # ตัวแปรต้องเป็นคำหนึ่งคำ # ห้ามมีเว้นวรรคในชื่อตัวแปร"
      ],
      "metadata": {
        "id": "rqzO8PZgBM3b"
      },
      "execution_count": null,
      "outputs": []
    },
    {
      "cell_type": "markdown",
      "source": [
        "## Advanced Printing\n",
        "เราสามารถ print code ร่วมกับข้อความได้\n",
        "\n",
        "```python\n",
        "print(f'ข้อความ{code}')\n",
        "```\n"
      ],
      "metadata": {
        "id": "OM_P_h0xBv5d"
      }
    },
    {
      "cell_type": "code",
      "source": [
        "print(f'ตัวแปร c = {c}')"
      ],
      "metadata": {
        "colab": {
          "base_uri": "https://localhost:8080/"
        },
        "id": "YDYuPLVyCwT3",
        "outputId": "e80be57f-d166-4221-b630-9ef517c6a1f1"
      },
      "execution_count": 37,
      "outputs": [
        {
          "output_type": "stream",
          "name": "stdout",
          "text": [
            "ตัวแปร c = 9.23076923076923\n"
          ]
        }
      ]
    },
    {
      "cell_type": "code",
      "source": [
        "print(f'ส่วนนี้ไม่ใช่ code>2*3 3-5 // ส่วนของ code>{2*3}  {3-5}')"
      ],
      "metadata": {
        "colab": {
          "base_uri": "https://localhost:8080/"
        },
        "id": "bPChb-sYC5SJ",
        "outputId": "42490e8a-fccc-493d-d862-0799ad8b1ce1"
      },
      "execution_count": 39,
      "outputs": [
        {
          "output_type": "stream",
          "name": "stdout",
          "text": [
            "ส่วนนี้ไม่ใช่ code>2*3 3-5 // ส่วนของ code>6  -2\n"
          ]
        }
      ]
    },
    {
      "cell_type": "code",
      "source": [
        "print(f'หนึ่ง บวก สอง (1+2) เท่ากับ สาม ({1+2})') # {} เรียกว่า  Curly Brackets"
      ],
      "metadata": {
        "colab": {
          "base_uri": "https://localhost:8080/"
        },
        "id": "0BCPTzhKBPUW",
        "outputId": "b507ee1a-31e9-4256-edcc-126133345c21"
      },
      "execution_count": 30,
      "outputs": [
        {
          "output_type": "stream",
          "name": "stdout",
          "text": [
            "หนึ่ง บวก สอง (1+2) เท่ากับ สาม (3)\n"
          ]
        }
      ]
    },
    {
      "cell_type": "code",
      "source": [
        "a = 1\n",
        "b = 2\n",
        "print(f'หนึ่ง บวก สอง ({a}+{b}) เท่ากับ สาม ({a+b})') # สามารถกำหนดตัวเเปรมาใส่ในข้อความได้"
      ],
      "metadata": {
        "colab": {
          "base_uri": "https://localhost:8080/"
        },
        "id": "rOzpc1bqCLQq",
        "outputId": "c02eb007-4135-438d-988c-c2011eff90f8"
      },
      "execution_count": 31,
      "outputs": [
        {
          "output_type": "stream",
          "name": "stdout",
          "text": [
            "หนึ่ง บวก สอง (1+2) เท่ากับ สาม (3)\n"
          ]
        }
      ]
    },
    {
      "cell_type": "code",
      "source": [
        "a = 5\n",
        "b = 2"
      ],
      "metadata": {
        "id": "KgeVOVbsCPMe"
      },
      "execution_count": 32,
      "outputs": []
    },
    {
      "cell_type": "code",
      "source": [
        "print(f'{a}+{b} = {a+b}')  #"
      ],
      "metadata": {
        "colab": {
          "base_uri": "https://localhost:8080/"
        },
        "id": "Ygiuj-uJCgzy",
        "outputId": "70c5534e-a69d-4e99-91fd-a512b7fa055a"
      },
      "execution_count": 36,
      "outputs": [
        {
          "output_type": "stream",
          "name": "stdout",
          "text": [
            "5+2 = 7\n"
          ]
        }
      ]
    },
    {
      "cell_type": "markdown",
      "source": [
        " decimal point (ทศนิยมกี่ตำแหน่ง)   || digit"
      ],
      "metadata": {
        "id": "9nZufiVqD1oB"
      }
    },
    {
      "cell_type": "code",
      "source": [
        "f'{1.0909:.2f}'"
      ],
      "metadata": {
        "colab": {
          "base_uri": "https://localhost:8080/",
          "height": 35
        },
        "id": "IaylK2iFD8iv",
        "outputId": "be9ee07e-8a5e-4549-cdd3-e6631dedefde"
      },
      "execution_count": 41,
      "outputs": [
        {
          "output_type": "execute_result",
          "data": {
            "text/plain": [
              "'1.09'"
            ],
            "application/vnd.google.colaboratory.intrinsic+json": {
              "type": "string"
            }
          },
          "metadata": {},
          "execution_count": 41
        }
      ]
    },
    {
      "cell_type": "code",
      "source": [
        "f'{2.3457666:.2f}'"
      ],
      "metadata": {
        "colab": {
          "base_uri": "https://localhost:8080/",
          "height": 35
        },
        "id": "A6EnrHAhEcMt",
        "outputId": "ca0ae496-a82e-4334-cff5-1e15c08a98fb"
      },
      "execution_count": 42,
      "outputs": [
        {
          "output_type": "execute_result",
          "data": {
            "text/plain": [
              "'2.35'"
            ],
            "application/vnd.google.colaboratory.intrinsic+json": {
              "type": "string"
            }
          },
          "metadata": {},
          "execution_count": 42
        }
      ]
    },
    {
      "cell_type": "markdown",
      "source": [
        "digit"
      ],
      "metadata": {
        "id": "DFqlf--ZF4bB"
      }
    },
    {
      "cell_type": "code",
      "source": [
        "f'{1:03d}' #จำนวนเต็มที่มีสามหลักเอา0ไปไว้ข้างหน้า"
      ],
      "metadata": {
        "colab": {
          "base_uri": "https://localhost:8080/",
          "height": 35
        },
        "id": "R-hB43UjF52t",
        "outputId": "85da1d0d-bbf0-4f31-f7a1-ce6ab30f7436"
      },
      "execution_count": 43,
      "outputs": [
        {
          "output_type": "execute_result",
          "data": {
            "text/plain": [
              "'001'"
            ],
            "application/vnd.google.colaboratory.intrinsic+json": {
              "type": "string"
            }
          },
          "metadata": {},
          "execution_count": 43
        }
      ]
    }
  ]
}